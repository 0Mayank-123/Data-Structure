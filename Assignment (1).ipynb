{
  "nbformat": 4,
  "nbformat_minor": 0,
  "metadata": {
    "colab": {
      "provenance": []
    },
    "kernelspec": {
      "name": "python3",
      "display_name": "Python 3"
    },
    "language_info": {
      "name": "python"
    }
  },
  "cells": [
    {
      "cell_type": "markdown",
      "source": [
        "Que1- What are data structures, and why are they important?\n",
        "\n",
        "Ans - Data structure is a way of organizing and storing the data so that it can be easily manipulated or accessed efficiently.\n",
        "\n",
        "It is important to choosing the right data structure to perform efficiently of your program.\n",
        "\n",
        "Que2- Explain the difference between mutable and immutable data types with examples.\n",
        "\n",
        "Ans- Mutable is changeable its means it can be modified. For eg., Lists - once he created, the items can be easily changed or even can change any elements.\n",
        "\n",
        "Immutable is unchangeable its means it cannot be modified. For eg., Tuple - once he created, the items of tuple cannot be changed.\n",
        "\n",
        "Que3 - What are the main differences between lists and tuples in python?\n",
        "\n",
        "Ans - There are only one difference between lists and tuple in python:-\n",
        "1 list are mutable\n",
        "2 tuple are immutable\n",
        "\n",
        "Que4 - Describe how dictionaries sotre data.\n",
        "\n",
        "Ans- Dictionaries store the data as the form of key value pair.\n",
        "\n",
        "Que5- Why might you use a set instead of a list in python?\n",
        "\n",
        "Ans- We use set instead of a  list in python because the set is unordered unique collection of elements. and it doesn't allow to duplicate elements.\n",
        "\n",
        "Que6- what is a string in python, and how is it different form a list?\n",
        "\n",
        "Ans- String is a immutable data type in python. and characters arrange in an unchangeable order.\n",
        "\n",
        "It is different because list is mutable data type. It means we can easily modified the data and it is ordered collection of elements.\n",
        "\n",
        "Que7 - How do tuples ensure data integrity in python\n",
        "\n",
        "Ans Tuples ensure data integrity in python because they are immutable. It means elements cannot be modified\n",
        "\n",
        "Que8 - what is hash table, and how does it relate to dictionaries in python?\n",
        "\n",
        "Ans - A hash table is a data structure that stores key value pairs.\n",
        "In python, dictionaries are implemented using hash table.\n",
        "\n",
        "Que9 - Can list contain data types in python?\n",
        "\n",
        "Ans- Yes, it hold various type of data in python. for e.g., strings and even other types of data.\n",
        "\n",
        "Que10 - Explain why are strings are immutable in python?\n",
        "\n",
        "Ans - Strings are immutable in python, because when you perform an operation that seems to modify a string, like replace, python actually creates a new string object with the desired changes, rather than altering the  original string in place.\n",
        "\n",
        "Que11 - What advantages do dictionaries offer over lists for certain tasks?\n",
        "\n",
        "Ans There are some advantages in dictionaries offer over lists for certain tasks. It has flexible data like key and values can be various data type. It has unique key- value pairs.\n",
        "\n",
        "Que12- Describe a scenario where using a tuple would be perferable over a list.\n",
        "\n",
        "Ans- Using a tuple would be preferable over a list is when you need to store a collection of items that should not be changed\n",
        "\n",
        "Que13- How do sets handle duplicate values in python?\n",
        "\n",
        "Ans- Set can not handle duplicate values in python because it cannot allow to duplicate becauese sets are the unordered and unique collection of elements.\n",
        "\n",
        "Que14- How does the \"in\" keyword work differently for lists and dictionaries?\n",
        "\n",
        "Ans- \"In\" keyword work differently for lists and dictionaries because both of different algorithms.\n",
        "\n",
        "Que15- Can you modify the elements of tuple? Explain why or why not.\n",
        "\n",
        "Ans- No, we can not modify the elements of tuple. Because tuple are immutable its means it is unchangeable.\n",
        "\n",
        "Que16- what is a nested dictionary, and give an example of its use case?\n",
        "\n",
        "Ans- A nested dictionary in python is a dictionary where values are themsleves are dictionaries. for e.g.,\n",
        "students = {\n",
        "    'Alice': {\n",
        "        'Math': 88,\n",
        "        'Science': 92\n",
        "    },\n",
        "    'Bob': {\n",
        "        'Math': 75,\n",
        "        'Science': 85\n",
        "    }\n",
        "}\n",
        "print(students['alice'],['science']) and you got the output 92\n",
        "\n",
        "Que17 - Describe the time complexity of accessing elements in a dictionary.\n",
        "\n",
        "Ans-\n",
        "\n",
        "Que18- In what situations are list preferrd over dictionaries?\n",
        "\n",
        "Ans- Lists are preferred when you need ordered collections, simple data structures, or efficient index-based access.\n",
        "\n",
        "Que19 - why are dictionaries considered unordered, and how does that affect data retrieval?\n",
        "\n",
        "Ans- Dictionaries are considered unordered because they do not maintain the order of elements. Instead, they use a hash table to store key-value pairs, which allows for efficient access and retrieval based on key.\n",
        "\n",
        "Que20 - Explain the difference between a list an a dictionary in terms of data retrival.\n",
        "\n",
        "Ans-\n"
      ],
      "metadata": {
        "id": "qotPYFdvl82X"
      }
    },
    {
      "cell_type": "code",
      "source": [
        "# que1\n",
        "string1 = \"Mayank Kumar Sahani\"\n",
        "string1"
      ],
      "metadata": {
        "colab": {
          "base_uri": "https://localhost:8080/",
          "height": 35
        },
        "id": "LSlVZDlctQyF",
        "outputId": "5b7fea5b-c349-4e6d-8ebe-147d858946d9"
      },
      "execution_count": null,
      "outputs": [
        {
          "output_type": "execute_result",
          "data": {
            "text/plain": [
              "'Mayank Kumar Sahani'"
            ],
            "application/vnd.google.colaboratory.intrinsic+json": {
              "type": "string"
            }
          },
          "metadata": {},
          "execution_count": 21
        }
      ]
    },
    {
      "cell_type": "code",
      "source": [
        "# que2\n",
        "string1 = \"hello, world!\"\n",
        "string1"
      ],
      "metadata": {
        "colab": {
          "base_uri": "https://localhost:8080/",
          "height": 35
        },
        "id": "_NZmP0QPuKzM",
        "outputId": "ee7e5fe9-b7dc-4d2a-8d7e-4315dcca4e8a"
      },
      "execution_count": null,
      "outputs": [
        {
          "output_type": "execute_result",
          "data": {
            "text/plain": [
              "'hello, world!'"
            ],
            "application/vnd.google.colaboratory.intrinsic+json": {
              "type": "string"
            }
          },
          "metadata": {},
          "execution_count": 22
        }
      ]
    },
    {
      "cell_type": "code",
      "source": [
        "type(s)"
      ],
      "metadata": {
        "colab": {
          "base_uri": "https://localhost:8080/"
        },
        "id": "PxZppcTGubDs",
        "outputId": "d0f80e1c-8156-48a4-92ac-0e25967d9153"
      },
      "execution_count": null,
      "outputs": [
        {
          "output_type": "execute_result",
          "data": {
            "text/plain": [
              "str"
            ]
          },
          "metadata": {},
          "execution_count": 15
        }
      ]
    },
    {
      "cell_type": "code",
      "source": [
        "len(\"hello,world!\")"
      ],
      "metadata": {
        "colab": {
          "base_uri": "https://localhost:8080/"
        },
        "id": "MV8P_PbCvRQE",
        "outputId": "6f3283ad-9d03-4d90-d628-0992da793196"
      },
      "execution_count": null,
      "outputs": [
        {
          "output_type": "execute_result",
          "data": {
            "text/plain": [
              "12"
            ]
          },
          "metadata": {},
          "execution_count": 18
        }
      ]
    },
    {
      "cell_type": "code",
      "source": [
        "#que3\n",
        "string1 = \"python programming\"\n",
        "string1"
      ],
      "metadata": {
        "colab": {
          "base_uri": "https://localhost:8080/",
          "height": 35
        },
        "id": "XG3OyuE3wed0",
        "outputId": "aa8d00d2-b0cc-46c3-ba33-73d5458bb80c"
      },
      "execution_count": null,
      "outputs": [
        {
          "output_type": "execute_result",
          "data": {
            "text/plain": [
              "'python programming'"
            ],
            "application/vnd.google.colaboratory.intrinsic+json": {
              "type": "string"
            }
          },
          "metadata": {},
          "execution_count": 25
        }
      ]
    },
    {
      "cell_type": "code",
      "source": [
        "string1[::3]"
      ],
      "metadata": {
        "colab": {
          "base_uri": "https://localhost:8080/",
          "height": 35
        },
        "id": "choBNkkGwwdU",
        "outputId": "403886d9-207d-4421-f70d-312cabde1255"
      },
      "execution_count": null,
      "outputs": [
        {
          "output_type": "execute_result",
          "data": {
            "text/plain": [
              "'ph oai'"
            ],
            "application/vnd.google.colaboratory.intrinsic+json": {
              "type": "string"
            }
          },
          "metadata": {},
          "execution_count": 27
        }
      ]
    },
    {
      "cell_type": "code",
      "source": [
        "#que4\n",
        "string1 = \"hello\"\n",
        "string1\n"
      ],
      "metadata": {
        "colab": {
          "base_uri": "https://localhost:8080/",
          "height": 35
        },
        "id": "c5tUHm9yxU1c",
        "outputId": "18a883e8-a80d-4cee-f52f-0d8d2cce4fa7"
      },
      "execution_count": null,
      "outputs": [
        {
          "output_type": "execute_result",
          "data": {
            "text/plain": [
              "'hello'"
            ],
            "application/vnd.google.colaboratory.intrinsic+json": {
              "type": "string"
            }
          },
          "metadata": {},
          "execution_count": 28
        }
      ]
    },
    {
      "cell_type": "code",
      "source": [
        "string1.upper()"
      ],
      "metadata": {
        "colab": {
          "base_uri": "https://localhost:8080/",
          "height": 35
        },
        "id": "xNBigG2Yxp9E",
        "outputId": "10c29ac4-d1aa-4e22-a6ce-1b5ef71fbf16"
      },
      "execution_count": null,
      "outputs": [
        {
          "output_type": "execute_result",
          "data": {
            "text/plain": [
              "'HELLO'"
            ],
            "application/vnd.google.colaboratory.intrinsic+json": {
              "type": "string"
            }
          },
          "metadata": {},
          "execution_count": 31
        }
      ]
    },
    {
      "cell_type": "code",
      "source": [
        "#que5\n",
        "string1 = \"i like apple\"\n",
        "string1"
      ],
      "metadata": {
        "colab": {
          "base_uri": "https://localhost:8080/",
          "height": 35
        },
        "id": "obxxurLLxvc8",
        "outputId": "0f4120e0-7b63-43a9-f92f-b06cd5028a5e"
      },
      "execution_count": null,
      "outputs": [
        {
          "output_type": "execute_result",
          "data": {
            "text/plain": [
              "'i like apple'"
            ],
            "application/vnd.google.colaboratory.intrinsic+json": {
              "type": "string"
            }
          },
          "metadata": {},
          "execution_count": 40
        }
      ]
    },
    {
      "cell_type": "code",
      "source": [
        "string1.replace(\"apple\", \"orange\")"
      ],
      "metadata": {
        "colab": {
          "base_uri": "https://localhost:8080/",
          "height": 35
        },
        "id": "DnE43oR6yEG8",
        "outputId": "c7cc8528-5e2e-42b6-b7ee-8f63134f306e"
      },
      "execution_count": null,
      "outputs": [
        {
          "output_type": "execute_result",
          "data": {
            "text/plain": [
              "'i like orange'"
            ],
            "application/vnd.google.colaboratory.intrinsic+json": {
              "type": "string"
            }
          },
          "metadata": {},
          "execution_count": 34
        }
      ]
    },
    {
      "cell_type": "code",
      "source": [
        "#que6\n",
        "num = [1, 2, 3, 4 ,5]\n",
        "num"
      ],
      "metadata": {
        "colab": {
          "base_uri": "https://localhost:8080/"
        },
        "id": "ey1b2jIKyLPM",
        "outputId": "ed5cec13-35f3-4d9a-ea68-e30bbe70eef6"
      },
      "execution_count": null,
      "outputs": [
        {
          "output_type": "execute_result",
          "data": {
            "text/plain": [
              "[1, 2, 3, 4, 5]"
            ]
          },
          "metadata": {},
          "execution_count": 37
        }
      ]
    },
    {
      "cell_type": "code",
      "source": [
        "type(num)"
      ],
      "metadata": {
        "colab": {
          "base_uri": "https://localhost:8080/"
        },
        "id": "TVP5MFo1yaqL",
        "outputId": "e09f15ca-c9db-40b9-ff86-c20f49a98355"
      },
      "execution_count": null,
      "outputs": [
        {
          "output_type": "execute_result",
          "data": {
            "text/plain": [
              "list"
            ]
          },
          "metadata": {},
          "execution_count": 38
        }
      ]
    },
    {
      "cell_type": "code",
      "source": [
        "#que7\n",
        "num = [1, 2, 3, 4,]\n",
        "num"
      ],
      "metadata": {
        "colab": {
          "base_uri": "https://localhost:8080/"
        },
        "id": "yufiKoD7yuV0",
        "outputId": "d369ac89-5c98-4df5-e2f4-bd45dfcc89be"
      },
      "execution_count": null,
      "outputs": [
        {
          "output_type": "execute_result",
          "data": {
            "text/plain": [
              "[1, 2, 3, 4]"
            ]
          },
          "metadata": {},
          "execution_count": 41
        }
      ]
    },
    {
      "cell_type": "code",
      "source": [
        "num.append(10)"
      ],
      "metadata": {
        "id": "YCRaAUcXy3Rj"
      },
      "execution_count": null,
      "outputs": []
    },
    {
      "cell_type": "code",
      "source": [
        "num"
      ],
      "metadata": {
        "colab": {
          "base_uri": "https://localhost:8080/"
        },
        "id": "Wz-1sDz_zJyz",
        "outputId": "3ff35dc6-99fc-4de7-fd05-ad5fc1fab329"
      },
      "execution_count": null,
      "outputs": [
        {
          "output_type": "execute_result",
          "data": {
            "text/plain": [
              "[1, 2, 3, 4, 10]"
            ]
          },
          "metadata": {},
          "execution_count": 43
        }
      ]
    },
    {
      "cell_type": "code",
      "source": [
        "#que8\n",
        "num = [1, 2, 3, 4, 5]\n",
        "num"
      ],
      "metadata": {
        "colab": {
          "base_uri": "https://localhost:8080/"
        },
        "id": "cAR8qy9lzK0-",
        "outputId": "796d7d14-1268-4363-e446-97821fc5e0a6"
      },
      "execution_count": null,
      "outputs": [
        {
          "output_type": "execute_result",
          "data": {
            "text/plain": [
              "[1, 2, 3, 4, 5]"
            ]
          },
          "metadata": {},
          "execution_count": 44
        }
      ]
    },
    {
      "cell_type": "code",
      "source": [
        "num.remove(3)"
      ],
      "metadata": {
        "id": "AWsbvcpXzTKz"
      },
      "execution_count": null,
      "outputs": []
    },
    {
      "cell_type": "code",
      "source": [
        "num"
      ],
      "metadata": {
        "colab": {
          "base_uri": "https://localhost:8080/"
        },
        "id": "oth3BFcCzVd7",
        "outputId": "f4bce862-a9b2-49d4-d63e-f26fa3cec4bf"
      },
      "execution_count": null,
      "outputs": [
        {
          "output_type": "execute_result",
          "data": {
            "text/plain": [
              "[1, 2, 4, 5]"
            ]
          },
          "metadata": {},
          "execution_count": 46
        }
      ]
    },
    {
      "cell_type": "code",
      "source": [
        "#que9\n",
        "list = ['a', 'b', 'c', 'd']\n",
        "list"
      ],
      "metadata": {
        "colab": {
          "base_uri": "https://localhost:8080/"
        },
        "id": "ZUdmRk5GzWW7",
        "outputId": "d5407412-ffe4-46d6-a507-e3e3c2f877d2"
      },
      "execution_count": null,
      "outputs": [
        {
          "output_type": "execute_result",
          "data": {
            "text/plain": [
              "['a', 'b', 'c', 'd']"
            ]
          },
          "metadata": {},
          "execution_count": 34
        }
      ]
    },
    {
      "cell_type": "code",
      "source": [
        "list[1]"
      ],
      "metadata": {
        "colab": {
          "base_uri": "https://localhost:8080/",
          "height": 35
        },
        "id": "oS8K-tlb7Glf",
        "outputId": "6d5d693f-7baf-4aa7-fd71-f1b2979f2289"
      },
      "execution_count": null,
      "outputs": [
        {
          "output_type": "execute_result",
          "data": {
            "text/plain": [
              "'b'"
            ],
            "application/vnd.google.colaboratory.intrinsic+json": {
              "type": "string"
            }
          },
          "metadata": {},
          "execution_count": 35
        }
      ]
    },
    {
      "cell_type": "code",
      "source": [
        "#que10\n",
        "list = [10, 20, 30, 40, 50]\n",
        "list"
      ],
      "metadata": {
        "colab": {
          "base_uri": "https://localhost:8080/"
        },
        "id": "8PQxAuOg3eeC",
        "outputId": "164165d9-6e29-4be7-e6e4-5b2b0b575906"
      },
      "execution_count": null,
      "outputs": [
        {
          "output_type": "execute_result",
          "data": {
            "text/plain": [
              "[10, 20, 30, 40, 50]"
            ]
          },
          "metadata": {},
          "execution_count": 9
        }
      ]
    },
    {
      "cell_type": "code",
      "source": [
        "list.reverse()"
      ],
      "metadata": {
        "id": "xjLW0yL73z8a"
      },
      "execution_count": null,
      "outputs": []
    },
    {
      "cell_type": "code",
      "source": [
        "list"
      ],
      "metadata": {
        "colab": {
          "base_uri": "https://localhost:8080/"
        },
        "id": "y90O3hRU32E5",
        "outputId": "8617a589-78fb-41b6-94c0-6f1b0d8effb0"
      },
      "execution_count": null,
      "outputs": [
        {
          "output_type": "execute_result",
          "data": {
            "text/plain": [
              "[50, 40, 30, 20, 10]"
            ]
          },
          "metadata": {},
          "execution_count": 14
        }
      ]
    },
    {
      "cell_type": "code",
      "source": [
        "# que11\n",
        "\n",
        "tuple = (100, 200, 300)\n",
        "tuple\n"
      ],
      "metadata": {
        "colab": {
          "base_uri": "https://localhost:8080/"
        },
        "id": "_m32bWJE33pJ",
        "outputId": "1bcd88b5-e009-4b48-94ae-fff957179826"
      },
      "execution_count": null,
      "outputs": [
        {
          "output_type": "execute_result",
          "data": {
            "text/plain": [
              "(100, 200, 300)"
            ]
          },
          "metadata": {},
          "execution_count": 18
        }
      ]
    },
    {
      "cell_type": "code",
      "source": [
        "# que 12\n",
        "\n",
        "tuple1 = ('red', 'green', 'blue', 'yellow')\n",
        "tuple1"
      ],
      "metadata": {
        "colab": {
          "base_uri": "https://localhost:8080/"
        },
        "id": "2za0zJND4pqJ",
        "outputId": "015decf2-e5d5-420a-fb9e-2edbb3861557"
      },
      "execution_count": null,
      "outputs": [
        {
          "output_type": "execute_result",
          "data": {
            "text/plain": [
              "('red', 'green', 'blue', 'yellow')"
            ]
          },
          "metadata": {},
          "execution_count": 22
        }
      ]
    },
    {
      "cell_type": "code",
      "source": [
        "tuple1[-2]"
      ],
      "metadata": {
        "colab": {
          "base_uri": "https://localhost:8080/",
          "height": 35
        },
        "id": "z3ph85Kb5GVh",
        "outputId": "1c40fb1c-1da9-499e-ed8f-5bb3a8beccd1"
      },
      "execution_count": null,
      "outputs": [
        {
          "output_type": "execute_result",
          "data": {
            "text/plain": [
              "'blue'"
            ],
            "application/vnd.google.colaboratory.intrinsic+json": {
              "type": "string"
            }
          },
          "metadata": {},
          "execution_count": 32
        }
      ]
    },
    {
      "cell_type": "code",
      "source": [
        "# que 13\n",
        "\n",
        "tuple1 = (10, 20, 5, 15)\n",
        "tuple1"
      ],
      "metadata": {
        "colab": {
          "base_uri": "https://localhost:8080/"
        },
        "id": "Eh85nfi06DTg",
        "outputId": "b661556b-6692-4d92-fe64-f328f68ae143"
      },
      "execution_count": null,
      "outputs": [
        {
          "output_type": "execute_result",
          "data": {
            "text/plain": [
              "(10, 20, 5, 15)"
            ]
          },
          "metadata": {},
          "execution_count": 36
        }
      ]
    },
    {
      "cell_type": "code",
      "source": [
        "min(tuple1)"
      ],
      "metadata": {
        "colab": {
          "base_uri": "https://localhost:8080/"
        },
        "id": "EHtjm4NC7fDA",
        "outputId": "d1a61680-8dfc-49f1-ecc0-d9defdbfab94"
      },
      "execution_count": null,
      "outputs": [
        {
          "output_type": "execute_result",
          "data": {
            "text/plain": [
              "5"
            ]
          },
          "metadata": {},
          "execution_count": 37
        }
      ]
    },
    {
      "cell_type": "code",
      "source": [
        "# que 14\n",
        "\n",
        "t1 = ('dog', 'cat', 'rabbit')\n",
        "t1"
      ],
      "metadata": {
        "colab": {
          "base_uri": "https://localhost:8080/"
        },
        "id": "Dypn0BRv7wJP",
        "outputId": "90b60e3e-2f68-4eef-8c59-867f612020ac"
      },
      "execution_count": null,
      "outputs": [
        {
          "output_type": "execute_result",
          "data": {
            "text/plain": [
              "('dog', 'cat', 'rabbit')"
            ]
          },
          "metadata": {},
          "execution_count": 38
        }
      ]
    },
    {
      "cell_type": "code",
      "source": [
        "t1.index('cat')"
      ],
      "metadata": {
        "colab": {
          "base_uri": "https://localhost:8080/"
        },
        "id": "pl_czpow8L8X",
        "outputId": "5c5227c2-d116-44be-9913-709f16424381"
      },
      "execution_count": null,
      "outputs": [
        {
          "output_type": "execute_result",
          "data": {
            "text/plain": [
              "1"
            ]
          },
          "metadata": {},
          "execution_count": 40
        }
      ]
    },
    {
      "cell_type": "code",
      "source": [
        "# que 15\n",
        "t1 = ('apple', 'kiwi', 'orange')\n",
        "t1"
      ],
      "metadata": {
        "colab": {
          "base_uri": "https://localhost:8080/"
        },
        "id": "VhCgJEIz8Umv",
        "outputId": "862a5ec0-1149-4ea6-bd55-6fcf04383fb2"
      },
      "execution_count": null,
      "outputs": [
        {
          "output_type": "execute_result",
          "data": {
            "text/plain": [
              "('apple', 'kiwi', 'orange')"
            ]
          },
          "metadata": {},
          "execution_count": 42
        }
      ]
    },
    {
      "cell_type": "code",
      "source": [
        "'kiwi' in t1"
      ],
      "metadata": {
        "colab": {
          "base_uri": "https://localhost:8080/"
        },
        "id": "uBnWk1PG8uSH",
        "outputId": "ddc7f6e8-7376-4ce7-d959-d0cdf38e3552"
      },
      "execution_count": null,
      "outputs": [
        {
          "output_type": "execute_result",
          "data": {
            "text/plain": [
              "True"
            ]
          },
          "metadata": {},
          "execution_count": 43
        }
      ]
    },
    {
      "cell_type": "code",
      "source": [
        "# que 16\n",
        "\n",
        "s = 'a', 'b', 'c'\n",
        "s"
      ],
      "metadata": {
        "colab": {
          "base_uri": "https://localhost:8080/"
        },
        "id": "XIEo-fYp9T4v",
        "outputId": "33d9c080-95ae-4ec6-a754-595aeb5de74f"
      },
      "execution_count": null,
      "outputs": [
        {
          "output_type": "execute_result",
          "data": {
            "text/plain": [
              "('a', 'b', 'c')"
            ]
          },
          "metadata": {},
          "execution_count": 45
        }
      ]
    },
    {
      "cell_type": "code",
      "source": [
        "# que 17\n",
        "s = {1, 2, 3, 4}\n",
        "s"
      ],
      "metadata": {
        "colab": {
          "base_uri": "https://localhost:8080/"
        },
        "id": "TGRQgJEH9yjX",
        "outputId": "0eab38f3-2a03-493a-c04b-4f44b1912895"
      },
      "execution_count": null,
      "outputs": [
        {
          "output_type": "execute_result",
          "data": {
            "text/plain": [
              "{1, 2, 3, 4}"
            ]
          },
          "metadata": {},
          "execution_count": 49
        }
      ]
    },
    {
      "cell_type": "code",
      "source": [
        "s.clear()"
      ],
      "metadata": {
        "id": "p33-uLTk-tE2"
      },
      "execution_count": null,
      "outputs": []
    },
    {
      "cell_type": "code",
      "source": [
        "s"
      ],
      "metadata": {
        "colab": {
          "base_uri": "https://localhost:8080/"
        },
        "id": "5RM3pE00_BDu",
        "outputId": "c7f955cb-0ca4-453c-e252-ec9985d75b8c"
      },
      "execution_count": null,
      "outputs": [
        {
          "output_type": "execute_result",
          "data": {
            "text/plain": [
              "set()"
            ]
          },
          "metadata": {},
          "execution_count": 51
        }
      ]
    },
    {
      "cell_type": "code",
      "source": [
        "# que 18\n",
        "\n",
        "s = {1, 2, 3, 4}\n",
        "s"
      ],
      "metadata": {
        "colab": {
          "base_uri": "https://localhost:8080/"
        },
        "id": "tXdSwzn0_BlG",
        "outputId": "51c7f036-4728-4376-ee88-5d844a1916bf"
      },
      "execution_count": null,
      "outputs": [
        {
          "output_type": "execute_result",
          "data": {
            "text/plain": [
              "{1, 2, 3, 4}"
            ]
          },
          "metadata": {},
          "execution_count": 53
        }
      ]
    },
    {
      "cell_type": "code",
      "source": [
        "s.remove(4)"
      ],
      "metadata": {
        "id": "WKnSzi3s_J1W"
      },
      "execution_count": null,
      "outputs": []
    },
    {
      "cell_type": "code",
      "source": [
        "s"
      ],
      "metadata": {
        "colab": {
          "base_uri": "https://localhost:8080/"
        },
        "id": "-6Xg4vqB_Oiu",
        "outputId": "e6561042-b8b6-4c14-a0e6-cd1fa71e7618"
      },
      "execution_count": null,
      "outputs": [
        {
          "output_type": "execute_result",
          "data": {
            "text/plain": [
              "{1, 2, 3}"
            ]
          },
          "metadata": {},
          "execution_count": 55
        }
      ]
    },
    {
      "cell_type": "code",
      "source": [
        "# que 19\n",
        "\n",
        "set1 = {1, 2, 3}\n",
        "set2 = {3, 4, 5}\n",
        "set1.union(set2)"
      ],
      "metadata": {
        "colab": {
          "base_uri": "https://localhost:8080/"
        },
        "id": "I7av3qoH_PLO",
        "outputId": "ac203472-e526-468f-fdca-533f041d5059"
      },
      "execution_count": null,
      "outputs": [
        {
          "output_type": "execute_result",
          "data": {
            "text/plain": [
              "{1, 2, 3, 4, 5}"
            ]
          },
          "metadata": {},
          "execution_count": 56
        }
      ]
    },
    {
      "cell_type": "code",
      "source": [
        "# que 20\n",
        "set1  = {1, 2, 3}\n",
        "set2 = {2, 3, 4}\n",
        "set1.intersection(set2)"
      ],
      "metadata": {
        "colab": {
          "base_uri": "https://localhost:8080/"
        },
        "id": "bsWZbJ5D_0c2",
        "outputId": "d11bc476-ac3b-400d-e8b9-dd651363d644"
      },
      "execution_count": null,
      "outputs": [
        {
          "output_type": "execute_result",
          "data": {
            "text/plain": [
              "{2, 3}"
            ]
          },
          "metadata": {},
          "execution_count": 58
        }
      ]
    },
    {
      "cell_type": "code",
      "source": [
        "# que 21\n",
        "dict1 = {\"name\": \"mayank sahani\", \"age\": 20, \"city\": \"delhi\"}\n",
        "dict1"
      ],
      "metadata": {
        "colab": {
          "base_uri": "https://localhost:8080/"
        },
        "id": "UapydGX-AXuN",
        "outputId": "cf474092-9f41-4430-e87e-821451732841"
      },
      "execution_count": null,
      "outputs": [
        {
          "output_type": "execute_result",
          "data": {
            "text/plain": [
              "{'name': 'mayank sahani', 'age': 20, 'city': 'delhi'}"
            ]
          },
          "metadata": {},
          "execution_count": 59
        }
      ]
    },
    {
      "cell_type": "code",
      "source": [
        "# que 22\n",
        "\n",
        "dict = {'name': 'john', 'age': 25}\n",
        "dict"
      ],
      "metadata": {
        "colab": {
          "base_uri": "https://localhost:8080/"
        },
        "id": "Ajc-NxPxA19V",
        "outputId": "2ae8bf5e-b571-453e-b422-0d910b7a71f3"
      },
      "execution_count": null,
      "outputs": [
        {
          "output_type": "execute_result",
          "data": {
            "text/plain": [
              "{'name': 'john', 'age': 25}"
            ]
          },
          "metadata": {},
          "execution_count": 63
        }
      ]
    },
    {
      "cell_type": "code",
      "source": [
        "dict1 = {\"country\": \"usa\"}\n",
        "dict1"
      ],
      "metadata": {
        "colab": {
          "base_uri": "https://localhost:8080/"
        },
        "id": "UV1VIacpBJMV",
        "outputId": "9a552a5a-1641-461f-f8ed-b02b7fae34bc"
      },
      "execution_count": null,
      "outputs": [
        {
          "output_type": "execute_result",
          "data": {
            "text/plain": [
              "{'country': 'usa'}"
            ]
          },
          "metadata": {},
          "execution_count": 65
        }
      ]
    },
    {
      "cell_type": "code",
      "source": [
        "dict.update(dict1)"
      ],
      "metadata": {
        "id": "0UlIh4qdBgD1"
      },
      "execution_count": null,
      "outputs": []
    },
    {
      "cell_type": "code",
      "source": [
        "dict"
      ],
      "metadata": {
        "colab": {
          "base_uri": "https://localhost:8080/"
        },
        "id": "1PJZsUoECEZl",
        "outputId": "a4e27d55-68b5-4500-e419-56682fc668ee"
      },
      "execution_count": null,
      "outputs": [
        {
          "output_type": "execute_result",
          "data": {
            "text/plain": [
              "{'name': 'john', 'age': 25, 'country': 'usa'}"
            ]
          },
          "metadata": {},
          "execution_count": 67
        }
      ]
    },
    {
      "cell_type": "code",
      "source": [
        "# que 23\n",
        "\n",
        "dict = {'name': 'alice', 'age': 30}\n",
        "dict"
      ],
      "metadata": {
        "colab": {
          "base_uri": "https://localhost:8080/"
        },
        "id": "sWpcrbWlCFaU",
        "outputId": "1786cbe5-7fcf-4396-9436-602d860dd0ef"
      },
      "execution_count": null,
      "outputs": [
        {
          "output_type": "execute_result",
          "data": {
            "text/plain": [
              "{'name': 'alice', 'age': 30}"
            ]
          },
          "metadata": {},
          "execution_count": 68
        }
      ]
    },
    {
      "cell_type": "code",
      "source": [
        "dict.get('name')"
      ],
      "metadata": {
        "colab": {
          "base_uri": "https://localhost:8080/",
          "height": 35
        },
        "id": "mAuTrk-qD-Qs",
        "outputId": "5ff9c3f8-a2e6-4234-e132-3656fc4880ec"
      },
      "execution_count": null,
      "outputs": [
        {
          "output_type": "execute_result",
          "data": {
            "text/plain": [
              "'alice'"
            ],
            "application/vnd.google.colaboratory.intrinsic+json": {
              "type": "string"
            }
          },
          "metadata": {},
          "execution_count": 75
        }
      ]
    },
    {
      "cell_type": "code",
      "source": [
        "# que 24\n",
        "d = {'name': 'bob', 'age': 22, 'city': 'newyork'}\n",
        "d\n"
      ],
      "metadata": {
        "colab": {
          "base_uri": "https://localhost:8080/"
        },
        "id": "K2xv_XMOED0E",
        "outputId": "3476c7e0-3e4c-428f-dd31-3cf83cbe041a"
      },
      "execution_count": null,
      "outputs": [
        {
          "output_type": "execute_result",
          "data": {
            "text/plain": [
              "{'name': 'bob', 'age': 22, 'city': 'newyork'}"
            ]
          },
          "metadata": {},
          "execution_count": 87
        }
      ]
    },
    {
      "cell_type": "code",
      "source": [
        "d.pop('age')"
      ],
      "metadata": {
        "colab": {
          "base_uri": "https://localhost:8080/"
        },
        "id": "MGRi0VytFVyj",
        "outputId": "f4a66699-17c3-441c-99b1-4580acc88f76"
      },
      "execution_count": null,
      "outputs": [
        {
          "output_type": "execute_result",
          "data": {
            "text/plain": [
              "22"
            ]
          },
          "metadata": {},
          "execution_count": 88
        }
      ]
    },
    {
      "cell_type": "code",
      "source": [
        "d"
      ],
      "metadata": {
        "colab": {
          "base_uri": "https://localhost:8080/"
        },
        "id": "tY6fVeoSGaBS",
        "outputId": "e8f3a793-0313-4f8f-a4bc-fb1006007ec4"
      },
      "execution_count": null,
      "outputs": [
        {
          "output_type": "execute_result",
          "data": {
            "text/plain": [
              "{'name': 'bob', 'city': 'newyork'}"
            ]
          },
          "metadata": {},
          "execution_count": 89
        }
      ]
    },
    {
      "cell_type": "code",
      "source": [
        "# que 25 write a code to check if they \"city\" exists in the dictionary {'name': 'alice', 'city': 'paris'}.\n",
        "d = {'name': 'alice', 'city': 'paris'}\n",
        "d"
      ],
      "metadata": {
        "colab": {
          "base_uri": "https://localhost:8080/"
        },
        "id": "ZnSbq8MsGbIq",
        "outputId": "2db0329b-f769-45ca-84af-ebf8c056d853"
      },
      "execution_count": null,
      "outputs": [
        {
          "output_type": "execute_result",
          "data": {
            "text/plain": [
              "{'name': 'alice', 'city': 'paris'}"
            ]
          },
          "metadata": {},
          "execution_count": 90
        }
      ]
    },
    {
      "cell_type": "code",
      "source": [
        "if 'city' in d:\n",
        "  print(\"The key 'city' exists in the dictionary.\")\n",
        "else:\n",
        "  print(\"The key 'city' does not exist in the dictionary.\")"
      ],
      "metadata": {
        "colab": {
          "base_uri": "https://localhost:8080/"
        },
        "id": "XDp4uMWJGuNq",
        "outputId": "9cdf5d3f-d03e-4717-97ec-43ab24796925"
      },
      "execution_count": null,
      "outputs": [
        {
          "output_type": "stream",
          "name": "stdout",
          "text": [
            "The key 'city' exists in the dictionary.\n"
          ]
        }
      ]
    },
    {
      "cell_type": "code",
      "source": [
        "# que 26"
      ],
      "metadata": {
        "id": "D0vS0QwzHUyC"
      },
      "execution_count": null,
      "outputs": []
    }
  ]
}